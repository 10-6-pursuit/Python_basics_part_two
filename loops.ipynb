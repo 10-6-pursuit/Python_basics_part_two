{
 "cells": [
  {
   "cell_type": "markdown",
   "metadata": {},
   "source": [
    "1. Write a function sum_of_squares that takes a range of numbers and returns the sum of the squares of the numbers in that range.\n",
    "\n",
    "   \n",
    "\n"
   ]
  },
  {
   "cell_type": "code",
   "execution_count": 3,
   "metadata": {},
   "outputs": [
    {
     "name": "stdout",
     "output_type": "stream",
     "text": [
      "30\n",
      "285\n",
      "2470\n"
     ]
    }
   ],
   "source": [
    "\n",
    "def sum_of_squares(start, end):\n",
    "    sum = 0\n",
    "    for num in range(start, end):\n",
    "        sum = sum + num * num\n",
    "    return sum\n",
    "    \n",
    "\n",
    "# Uncomment below to test\n",
    "(print(sum_of_squares(1, 5)))\n",
    "(print(sum_of_squares(1, 10)))\n",
    "(print(sum_of_squares(1, 20)))   "
   ]
  },
  {
   "cell_type": "markdown",
   "metadata": {},
   "source": [
    "2. Write a function numbered_values that takes a list of values and and prints out the number (starting with 1) and value of each value in the list.\n",
    "\n",
    "Input:\n",
    "input_list = [1, 2, 3, 4, 5]\n",
    "\n",
    "\n",
    "Output:\n",
    "1: 1\n",
    "2: 2\n",
    "3: 3\n",
    "4: 4\n",
    "5: 5\n",
    "\n"
   ]
  },
  {
   "cell_type": "code",
   "execution_count": 10,
   "metadata": {},
   "outputs": [
    {
     "name": "stdout",
     "output_type": "stream",
     "text": [
      "1:1\n",
      "2:2\n",
      "3:3\n",
      "4:4\n",
      "5:5\n",
      "None\n",
      "1:1\n",
      "2:2\n",
      "3:3\n",
      "4:4\n",
      "5:5\n",
      "None\n",
      "1:1\n",
      "2:2\n",
      "3:3\n",
      "4:4\n",
      "5:5\n",
      "None\n"
     ]
    }
   ],
   "source": [
    "\n",
    "def numbered_values(list):\n",
    "    for num in list:\n",
    "        print(f\"{num}:{num}\")\n",
    "\n",
    "# Uncomment below to test\n",
    "(print(numbered_values([1, 2, 3, 4, 5])))\n",
    "(print(numbered_values([1, 2, 3, 4, 5])))\n",
    "(print(numbered_values([1, 2, 3, 4, 5])))"
   ]
  },
  {
   "cell_type": "markdown",
   "metadata": {},
   "source": [
    "3. Write a funciton value_count that takes a list of values and a target value and returns how many times the target value occurs in the list.\n",
    "\n",
    "Input:\n",
    "input_list = [1, 2, 3, 4, 5, 2, 2, 3, 4, 5, 2]\n",
    "target_value = 2\n",
    "\n",
    "Output:\n",
    "3   \n",
    "\n",
    "\n"
   ]
  },
  {
   "cell_type": "code",
   "execution_count": 12,
   "metadata": {},
   "outputs": [
    {
     "name": "stdout",
     "output_type": "stream",
     "text": [
      "4\n",
      "2\n"
     ]
    }
   ],
   "source": [
    "\n",
    "def value_count(list, target):\n",
    "    count = 0\n",
    "    for num in list:\n",
    "        if num == target:\n",
    "            count = count + 1\n",
    "    return count\n",
    "\n",
    "# Uncomment below to test\n",
    "(print(value_count([1, 2, 3, 4, 5, 2, 2, 3, 4, 5, 2], 2)))\n",
    "(print(value_count([1, 2, 3, 4, 5, 2, 2, 3, 4, 5, 2], 3)))"
   ]
  },
  {
   "cell_type": "markdown",
   "metadata": {},
   "source": [
    "4. Write a function index_of_value that takes a list of values and a target value and returns the index of the first occurrence of the target value in the list.\n",
    "\n",
    "Input:\n",
    "input_list = [1, 2, 3, 4, 5, 2, 2, 3, 4, 5, 2]\n",
    "target_value = 2\n",
    "\n",
    "Output:\n",
    "1   \n",
    "\n",
    "\n"
   ]
  },
  {
   "cell_type": "code",
   "execution_count": 14,
   "metadata": {},
   "outputs": [
    {
     "name": "stdout",
     "output_type": "stream",
     "text": [
      "1\n",
      "2\n"
     ]
    }
   ],
   "source": [
    "\n",
    "def index_of_value(list, target):\n",
    "    for i in range(len(list)):\n",
    "        if list[i] == target:\n",
    "            return i\n",
    "\n",
    "# Uncomment below to test\n",
    "(print(index_of_value([1, 2, 3, 4, 5, 2, 2, 3, 4, 5, 2], 2)))\n",
    "(print(index_of_value([1, 2, 3, 4, 5, 2, 2, 3, 4, 5, 2], 3)))"
   ]
  }
 ],
 "metadata": {
  "kernelspec": {
   "display_name": ".venv",
   "language": "python",
   "name": "python3"
  },
  "language_info": {
   "codemirror_mode": {
    "name": "ipython",
    "version": 3
   },
   "file_extension": ".py",
   "mimetype": "text/x-python",
   "name": "python",
   "nbconvert_exporter": "python",
   "pygments_lexer": "ipython3",
   "version": "3.13.0"
  }
 },
 "nbformat": 4,
 "nbformat_minor": 2
}
