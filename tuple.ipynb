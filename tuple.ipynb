{
 "cells": [
  {
   "cell_type": "markdown",
   "metadata": {},
   "source": [
    "1. Write a Python function tuple_stats that accepts a tuple of numbers and returns a new tuple that contains:\n",
    "\n",
    "The smallest number.\n",
    "The largest number.\n",
    "The sum of all the numbers.\n",
    "\n",
    "Input: (1, 2, 3, 4, 5)\n",
    "Output: (1, 5, 15)\n",
    "\n",
    "Input: (10, 20, 30, 40, 50)\n",
    "Output: (10, 50, 150)\n",
    "\n",
    "Input: (0, 0, 0, 0, 0)\n",
    "Output: (0, 0, 0)\n",
    "\n"
   ]
  },
  {
   "cell_type": "code",
   "execution_count": null,
   "metadata": {},
   "outputs": [
    {
     "name": "stdout",
     "output_type": "stream",
     "text": [
      "(1, 5, 15)\n",
      "(10, 50, 150)\n",
      "(0, 0, 0)\n"
     ]
    }
   ],
   "source": [
    "\n",
    "def tuple_stats(tuple):\n",
    "    new_list = list(tuple)\n",
    "    new_list.sort()\n",
    "    tuple_sum = 0\n",
    "    smallest_num = new_list[0]\n",
    "    largest_num = new_list[-1]\n",
    "    for num in new_list:\n",
    "        tuple_sum = tuple_sum + num\n",
    "    new_tuple = (smallest_num, largest_num,tuple_sum)\n",
    "    return new_tuple\n",
    "\n",
    "# Uncomment below to test\n",
    "(print(tuple_stats((1, 2, 3, 4, 5))))\n",
    "(print(tuple_stats((10, 20, 30, 40, 50))))\n",
    "(print(tuple_stats((0, 0, 0, 0, 0))))"
   ]
  },
  {
   "cell_type": "markdown",
   "metadata": {},
   "source": [
    "2. Write a Python function that accepts a tuple of strings and returns a new tuple that:\n",
    "\n",
    "Reverses the order of the elements in the tuple.\n",
    "Extracts a slice of the reversed tuple (from index 1 to the second-to-last element).\n",
    "\n",
    "Input: ('apple', 'banana', 'cherry', 'date', 'elderberry')\n",
    "Output: ('elderberry', 'date', 'cherry', 'banana')\n",
    "\n",
    "Input: ('one', 'two', 'three', 'four', 'five', 'six')\n",
    "Output: ('six', 'five', 'four', 'three')"
   ]
  },
  {
   "cell_type": "code",
   "execution_count": 8,
   "metadata": {},
   "outputs": [
    {
     "name": "stdout",
     "output_type": "stream",
     "text": [
      "['elderberry', 'date', 'cherry']\n",
      "['six', 'five', 'four', 'three']\n"
     ]
    }
   ],
   "source": [
    "\n",
    "def reverse_and_slice_tuple(tuple):\n",
    "    new_list = list(tuple)\n",
    "    new_list.reverse()\n",
    "    sliced_list = new_list[0:-2]\n",
    "    new_tuple = (sliced_list)\n",
    "    return new_tuple\n",
    "\n",
    "\n",
    "#Uncomment below to test\n",
    "(print(reverse_and_slice_tuple(('apple', 'banana', 'cherry', 'date', 'elderberry'))))\n",
    "(print(reverse_and_slice_tuple(('one', 'two', 'three', 'four', 'five', 'six'))))"
   ]
  }
 ],
 "metadata": {
  "kernelspec": {
   "display_name": ".venv",
   "language": "python",
   "name": "python3"
  },
  "language_info": {
   "codemirror_mode": {
    "name": "ipython",
    "version": 3
   },
   "file_extension": ".py",
   "mimetype": "text/x-python",
   "name": "python",
   "nbconvert_exporter": "python",
   "pygments_lexer": "ipython3",
   "version": "3.13.0"
  }
 },
 "nbformat": 4,
 "nbformat_minor": 2
}
