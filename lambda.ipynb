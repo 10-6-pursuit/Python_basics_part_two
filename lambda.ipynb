{
 "cells": [
  {
   "cell_type": "markdown",
   "metadata": {},
   "source": [
    "Problem:\n",
    "Write a Python function that accepts a list of numbers and a multiplier. Use a lambda function to multiply each number in the list by the multiplier and return the modified list. Instead of map(), use a for loop.\n",
    "\n",
    "Input:\n",
    "numbers = [1, 2, 3, 4, 5]\n",
    "multiplier = 2\n",
    "\n",
    "Output:\n",
    "[2, 4, 6, 8, 10]\n",
    "\n"
   ]
  },
  {
   "cell_type": "code",
   "execution_count": null,
   "metadata": {},
   "outputs": [
    {
     "name": "stdout",
     "output_type": "stream",
     "text": [
      "[2, 4, 6, 8, 10]\n"
     ]
    }
   ],
   "source": [
    "\n",
    "def multiply_list_elements(nums, multiplier):\n",
    "    lambdaFunc = lambda n : n * multiplier\n",
    "    for i in range(len(nums)):\n",
    "        nums[i] = lambdaFunc(nums[i])\n",
    "    return nums\n",
    "        \n",
    "# Uncomment below to test   \n",
    "(print(multiply_list_elements([1, 2, 3, 4, 5], 2)))\n",
    "(print(multiply_list_elements([1, 2, 3, 4, 5], 3)))\n",
    "(print(multiply_list_elements([1, 2, 3, 4, 5], 4)))\n"
   ]
  }
 ],
 "metadata": {
  "kernelspec": {
   "display_name": ".venv",
   "language": "python",
   "name": "python3"
  },
  "language_info": {
   "codemirror_mode": {
    "name": "ipython",
    "version": 3
   },
   "file_extension": ".py",
   "mimetype": "text/x-python",
   "name": "python",
   "nbconvert_exporter": "python",
   "pygments_lexer": "ipython3",
   "version": "3.13.0"
  }
 },
 "nbformat": 4,
 "nbformat_minor": 2
}
