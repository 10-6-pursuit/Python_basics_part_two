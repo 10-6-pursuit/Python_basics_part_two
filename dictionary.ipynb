{
 "cells": [
  {
   "cell_type": "markdown",
   "metadata": {},
   "source": [
    "1. Problem:\n",
    "Write a Python function that accepts a list of words and returns a dictionary where the keys are the words, and the values are the number of times each word appears in the list.\n",
    "\n",
    "Input:\n",
    "words = ['apple', 'banana', 'apple', 'orange', 'banana', 'apple']\n",
    "\n",
    "Output:\n",
    "{'apple': 3, 'banana': 2, 'orange': 1}"
   ]
  },
  {
   "cell_type": "code",
   "execution_count": 13,
   "metadata": {},
   "outputs": [
    {
     "name": "stdout",
     "output_type": "stream",
     "text": [
      "{'big': 3, 'little': 1, 'small': 2}\n",
      "{'apple': 3, 'banana': 2, 'orange': 1}\n"
     ]
    }
   ],
   "source": [
    "def word_count(list):\n",
    "    dict = {}\n",
    "    for word in list:\n",
    "        if word in dict:\n",
    "            dict[word] += 1\n",
    "        else:\n",
    "            dict[word] = 1\n",
    "    return dict\n",
    "\n",
    "#Uncomment below to test\n",
    "(print(word_count(['big','little','small','big','small','big'])))\n",
    "(print(word_count(['apple', 'banana', 'apple', 'orange', 'banana', 'apple'])))\n"
   ]
  },
  {
   "cell_type": "markdown",
   "metadata": {},
   "source": [
    "2. Problem:\n",
    "Write a Python function list_to_dict that accepts two lists: one with names and another with corresponding ages. The function should return a dictionary where the names are the keys, and the ages are the values. Lookup the zip() function to pair the names and ages.\n",
    "\n",
    "Input:\n",
    "names = ['Alice', 'Bob', 'Charlie']\n",
    "ages = [25, 30, 35]\n",
    "\n",
    "Output:\n",
    "{'Alice': 25, 'Bob': 30, 'Charlie': 35}\n",
    "\n"
   ]
  },
  {
   "cell_type": "code",
   "execution_count": 10,
   "metadata": {},
   "outputs": [
    {
     "name": "stdout",
     "output_type": "stream",
     "text": [
      "{'Alice': 25, 'Bob': 30, 'Charlie': 35}\n",
      "{'Green': 25, 'Blue': 30, 'Brown': 35, 'Red': 40}\n"
     ]
    }
   ],
   "source": [
    "\n",
    "def list_to_dict(names, ages):\n",
    "    return dict(zip(names, ages))\n",
    "\n",
    "#Uncomment below to test\n",
    "(print(list_to_dict(['Alice', 'Bob', 'Charlie'], [25, 30, 35])))\n",
    "(print(list_to_dict(['Green', 'Blue', 'Brown','Red'], [25, 30, 35, 40])))"
   ]
  }
 ],
 "metadata": {
  "kernelspec": {
   "display_name": ".venv",
   "language": "python",
   "name": "python3"
  },
  "language_info": {
   "codemirror_mode": {
    "name": "ipython",
    "version": 3
   },
   "file_extension": ".py",
   "mimetype": "text/x-python",
   "name": "python",
   "nbconvert_exporter": "python",
   "pygments_lexer": "ipython3",
   "version": "3.13.0"
  }
 },
 "nbformat": 4,
 "nbformat_minor": 2
}
