{
 "cells": [
  {
   "cell_type": "markdown",
   "metadata": {},
   "source": [
    "1. Write a function remove_value that takes a list and a value as input and removes the value from the list. If the value is not in the list, print \"Value not found\".\n",
    "\n",
    "\n"
   ]
  },
  {
   "cell_type": "code",
   "execution_count": 5,
   "metadata": {},
   "outputs": [
    {
     "name": "stdout",
     "output_type": "stream",
     "text": [
      "[1, 2, 4, 5]\n",
      "Value not found\n",
      "[1, 2, 4, 5]\n"
     ]
    }
   ],
   "source": [
    "\n",
    "def remove_value(list, val):\n",
    "    if val in list:\n",
    "        list.remove(val)\n",
    "        return list\n",
    "    else:\n",
    "        return \"Value not found\"\n",
    "\n",
    "\n",
    "# Uncomment below to test\n",
    "(print(remove_value([1, 2, 3, 4, 5], 3)))\n",
    "(print(remove_value([1, 2, 3, 4, 5], 6)))\n",
    "(print(remove_value([1, 2, 3, 4, 5], 3)))"
   ]
  },
  {
   "cell_type": "markdown",
   "metadata": {},
   "source": [
    "2. Write a function add_value that takes a list and a value as input and adds the value to the end of the list. If the value is already in the list, print \"Value already in list\".\n",
    "\n"
   ]
  },
  {
   "cell_type": "code",
   "execution_count": 8,
   "metadata": {},
   "outputs": [
    {
     "name": "stdout",
     "output_type": "stream",
     "text": [
      "[1, 2, 3, 4, 5, 6]\n",
      "Value already in list\n"
     ]
    }
   ],
   "source": [
    "\n",
    "def add_value(list, val):\n",
    "    if val in list:\n",
    "        return \"Value already in list\"\n",
    "    else:\n",
    "        list.append(val)\n",
    "        return list\n",
    "# Uncomment below to test\n",
    "(print(add_value([1, 2, 3, 4, 5], 6)))\n",
    "(print(add_value([1, 2, 3, 4, 5], 5)))\n"
   ]
  },
  {
   "cell_type": "markdown",
   "metadata": {},
   "source": [
    "3. Write a function add_value adds a value to the beginning of a list.  \n",
    "\n",
    "\n",
    "\n"
   ]
  },
  {
   "cell_type": "code",
   "execution_count": 9,
   "metadata": {},
   "outputs": [
    {
     "name": "stdout",
     "output_type": "stream",
     "text": [
      "[6, 1, 2, 3, 4, 5]\n",
      "Value already in list\n"
     ]
    }
   ],
   "source": [
    "\n",
    "def add_value_if_not_present(list, val):\n",
    "    if val in list:\n",
    "        return \"Value already in list\"\n",
    "    else:\n",
    "        list.insert(0, val)\n",
    "        return list\n",
    "\n",
    "# Uncomment below to test\n",
    "(print(add_value_if_not_present([1, 2, 3, 4, 5], 6)))\n",
    "(print(add_value_if_not_present([1, 2, 3, 4, 5], 5)))"
   ]
  },
  {
   "cell_type": "markdown",
   "metadata": {},
   "source": [
    "4. Write a function remove_value_by_index that takes a list and an index as input and removes the value at the index from the list. If the index is out of range, print \"Index out of range\".\n",
    "\n",
    "\n",
    "\n",
    "\n"
   ]
  },
  {
   "cell_type": "code",
   "execution_count": 14,
   "metadata": {},
   "outputs": [
    {
     "name": "stdout",
     "output_type": "stream",
     "text": [
      "[1, 2, 3, 5]\n",
      "Index out of range\n",
      "[1, 2, 3, 5]\n"
     ]
    }
   ],
   "source": [
    "\n",
    "def remove_value_by_index(list, index):\n",
    "    if len(list) <= index:\n",
    "        return \"Index out of range\"\n",
    "    else:\n",
    "        del list[index]\n",
    "        return list\n",
    "# Uncomment below to test\n",
    "(print(remove_value_by_index([1, 2, 3, 4, 5], 3)))\n",
    "(print(remove_value_by_index([1, 2, 3, 4, 5], 6)))\n",
    "(print(remove_value_by_index([1, 2, 3, 4, 5], 3)))"
   ]
  },
  {
   "cell_type": "markdown",
   "metadata": {},
   "source": [
    "Write a function slice_list that take a list of numbers and an index and return only the part of the list that starts at the index and goes to the end of the list.\n",
    "\n",
    "\n"
   ]
  },
  {
   "cell_type": "code",
   "execution_count": 15,
   "metadata": {},
   "outputs": [
    {
     "name": "stdout",
     "output_type": "stream",
     "text": [
      "[4, 5]\n",
      "[5]\n",
      "[3, 4, 5]\n"
     ]
    }
   ],
   "source": [
    "\n",
    "def slice_list(list, index):\n",
    "    return list[index:]\n",
    "\n",
    "# Uncomment below to test\n",
    "(print(slice_list([1, 2, 3, 4, 5], 3)))\n",
    "(print(slice_list([1, 2, 3, 4, 5], 4)))\n",
    "(print(slice_list([1, 2, 3, 4, 5], 2)))\n"
   ]
  },
  {
   "cell_type": "markdown",
   "metadata": {},
   "source": [
    "6. Write a function create_list_comprehension that takes a list of numbers and returns a list of the squares of the numbers in the list. Use a list comprehension to do this.\n",
    "\n",
    "\n",
    "\n",
    "\n",
    "\n",
    "\n",
    "\n"
   ]
  },
  {
   "cell_type": "code",
   "execution_count": 17,
   "metadata": {},
   "outputs": [
    {
     "name": "stdout",
     "output_type": "stream",
     "text": [
      "[1, 4, 9, 16, 25]\n",
      "[9, 16, 25, 36, 49]\n"
     ]
    }
   ],
   "source": [
    "\n",
    "def create_list_comprehension(list):\n",
    "    \n",
    "    squared_list = [n * n for n in list]\n",
    "\n",
    "    return squared_list\n",
    "\n",
    "# Uncomment below to test\n",
    "(print(create_list_comprehension([1, 2, 3, 4, 5])))\n",
    "(print(create_list_comprehension([3, 4, 5, 6, 7])))\n"
   ]
  }
 ],
 "metadata": {
  "kernelspec": {
   "display_name": ".venv",
   "language": "python",
   "name": "python3"
  },
  "language_info": {
   "codemirror_mode": {
    "name": "ipython",
    "version": 3
   },
   "file_extension": ".py",
   "mimetype": "text/x-python",
   "name": "python",
   "nbconvert_exporter": "python",
   "pygments_lexer": "ipython3",
   "version": "3.13.0"
  }
 },
 "nbformat": 4,
 "nbformat_minor": 2
}
